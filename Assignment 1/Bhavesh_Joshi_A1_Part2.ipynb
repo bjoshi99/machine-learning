{
 "cells": [
  {
   "cell_type": "markdown",
   "metadata": {},
   "source": [
    "<center> <h2>Programming Assignment 1 Part 2 - Machine Learning TCSS 455 </h2>\n",
    "<br>\n",
    "<center>Author: Bhavesh Joshi<br>\n",
    "Date : October 7th 2021\n",
    "    <br>\n",
    "    <hr>"
   ]
  },
  {
   "cell_type": "markdown",
   "metadata": {},
   "source": [
    "## Import statements##\n",
    "\n",
    "Let's import all the library that we will be using in this notebook"
   ]
  },
  {
   "cell_type": "code",
   "execution_count": 66,
   "metadata": {},
   "outputs": [],
   "source": [
    "import numpy as np\n",
    "import pandas as pd\n",
    "import statistics\n",
    "%matplotlib inline"
   ]
  },
  {
   "cell_type": "markdown",
   "metadata": {},
   "source": [
    "<hr style=\"height:1px;border:none;color:#333;background-color:#333;\">\n",
    "\n",
    "## Question 1\n",
    "Q1. Suppose that the values for a given set of data are grouped into intervals. The intervals and corresponding frequencies are as follows. (3 points)\n",
    "\n",
    "Age  Frequency <br>\n",
    "1-5      200 <br>\n",
    "5-15     450 <br>\n",
    "15-20   300 <br>\n",
    "20-50   1500 <br>\n",
    "50-80   700 <br>\n",
    "80-110  44 <br>\n",
    "\n",
    "Compute an approximate median value of age for the data"
   ]
  },
  {
   "cell_type": "markdown",
   "metadata": {},
   "source": [
    "We have stored the given table in q1.csv file. So we will go ahead and read that csv file and store all contents into data object."
   ]
  },
  {
   "cell_type": "code",
   "execution_count": 28,
   "metadata": {},
   "outputs": [],
   "source": [
    "data = pd.read_csv(\"q1.csv\")"
   ]
  },
  {
   "cell_type": "markdown",
   "metadata": {},
   "source": [
    "Now as we have read the file, we will make sure what our data object contains. "
   ]
  },
  {
   "cell_type": "code",
   "execution_count": 29,
   "metadata": {},
   "outputs": [
    {
     "data": {
      "text/html": [
       "<div>\n",
       "<style scoped>\n",
       "    .dataframe tbody tr th:only-of-type {\n",
       "        vertical-align: middle;\n",
       "    }\n",
       "\n",
       "    .dataframe tbody tr th {\n",
       "        vertical-align: top;\n",
       "    }\n",
       "\n",
       "    .dataframe thead th {\n",
       "        text-align: right;\n",
       "    }\n",
       "</style>\n",
       "<table border=\"1\" class=\"dataframe\">\n",
       "  <thead>\n",
       "    <tr style=\"text-align: right;\">\n",
       "      <th></th>\n",
       "      <th>Age</th>\n",
       "      <th>frequency</th>\n",
       "    </tr>\n",
       "  </thead>\n",
       "  <tbody>\n",
       "    <tr>\n",
       "      <th>0</th>\n",
       "      <td>1-5</td>\n",
       "      <td>200</td>\n",
       "    </tr>\n",
       "    <tr>\n",
       "      <th>1</th>\n",
       "      <td>5-15</td>\n",
       "      <td>450</td>\n",
       "    </tr>\n",
       "    <tr>\n",
       "      <th>2</th>\n",
       "      <td>15-20</td>\n",
       "      <td>300</td>\n",
       "    </tr>\n",
       "    <tr>\n",
       "      <th>3</th>\n",
       "      <td>20-50</td>\n",
       "      <td>1500</td>\n",
       "    </tr>\n",
       "    <tr>\n",
       "      <th>4</th>\n",
       "      <td>50-80</td>\n",
       "      <td>700</td>\n",
       "    </tr>\n",
       "    <tr>\n",
       "      <th>5</th>\n",
       "      <td>80-110</td>\n",
       "      <td>44</td>\n",
       "    </tr>\n",
       "  </tbody>\n",
       "</table>\n",
       "</div>"
      ],
      "text/plain": [
       "      Age  frequency\n",
       "0     1-5        200\n",
       "1    5-15        450\n",
       "2   15-20        300\n",
       "3   20-50       1500\n",
       "4   50-80        700\n",
       "5  80-110         44"
      ]
     },
     "execution_count": 29,
     "metadata": {},
     "output_type": "execute_result"
    }
   ],
   "source": [
    "data"
   ]
  },
  {
   "cell_type": "markdown",
   "metadata": {},
   "source": [
    "Alright. First we will create data-frame object to find approximate median value."
   ]
  },
  {
   "cell_type": "code",
   "execution_count": 68,
   "metadata": {},
   "outputs": [],
   "source": [
    "df = pd.DataFrame(data)"
   ]
  },
  {
   "cell_type": "code",
   "execution_count": 69,
   "metadata": {},
   "outputs": [
    {
     "data": {
      "text/html": [
       "<div>\n",
       "<style scoped>\n",
       "    .dataframe tbody tr th:only-of-type {\n",
       "        vertical-align: middle;\n",
       "    }\n",
       "\n",
       "    .dataframe tbody tr th {\n",
       "        vertical-align: top;\n",
       "    }\n",
       "\n",
       "    .dataframe thead th {\n",
       "        text-align: right;\n",
       "    }\n",
       "</style>\n",
       "<table border=\"1\" class=\"dataframe\">\n",
       "  <thead>\n",
       "    <tr style=\"text-align: right;\">\n",
       "      <th></th>\n",
       "      <th>Age</th>\n",
       "      <th>frequency</th>\n",
       "      <th>Cumulative_Frequency</th>\n",
       "    </tr>\n",
       "  </thead>\n",
       "  <tbody>\n",
       "    <tr>\n",
       "      <th>0</th>\n",
       "      <td>1-5</td>\n",
       "      <td>200</td>\n",
       "      <td>200</td>\n",
       "    </tr>\n",
       "    <tr>\n",
       "      <th>1</th>\n",
       "      <td>5-15</td>\n",
       "      <td>450</td>\n",
       "      <td>650</td>\n",
       "    </tr>\n",
       "    <tr>\n",
       "      <th>2</th>\n",
       "      <td>15-20</td>\n",
       "      <td>300</td>\n",
       "      <td>950</td>\n",
       "    </tr>\n",
       "    <tr>\n",
       "      <th>3</th>\n",
       "      <td>20-50</td>\n",
       "      <td>1500</td>\n",
       "      <td>2450</td>\n",
       "    </tr>\n",
       "    <tr>\n",
       "      <th>4</th>\n",
       "      <td>50-80</td>\n",
       "      <td>700</td>\n",
       "      <td>3150</td>\n",
       "    </tr>\n",
       "    <tr>\n",
       "      <th>5</th>\n",
       "      <td>80-110</td>\n",
       "      <td>44</td>\n",
       "      <td>3194</td>\n",
       "    </tr>\n",
       "  </tbody>\n",
       "</table>\n",
       "</div>"
      ],
      "text/plain": [
       "      Age  frequency  Cumulative_Frequency\n",
       "0     1-5        200                   200\n",
       "1    5-15        450                   650\n",
       "2   15-20        300                   950\n",
       "3   20-50       1500                  2450\n",
       "4   50-80        700                  3150\n",
       "5  80-110         44                  3194"
      ]
     },
     "execution_count": 69,
     "metadata": {},
     "output_type": "execute_result"
    }
   ],
   "source": [
    "df"
   ]
  },
  {
   "cell_type": "markdown",
   "metadata": {},
   "source": [
    "From the formula listed in this website, we need some additional details in order to compute the median value\n",
    "\n",
    "https://www.aplustopper.com/calculate-median-grouped-frequency-distribution/\n",
    "\n",
    "Now, let's create another column with cumlative frequency valyes\n",
    "\n",
    "Median = ℓ + ((N/2–C)/f)×h\n",
    "\n",
    "where,\n",
    "ℓ = lower limit of median class interval<br>\n",
    "C = cumulative frequency preceding to the median class frequency<br>\n",
    "f = frequency of the class interval to which median belongs<br>\n",
    "h = width of the class interval<br>\n",
    "N =  f1 + f2 + f3 + … + fn.<br>\n",
    "\n",
    "For that let's compute the commulative frequencies for our given data."
   ]
  },
  {
   "cell_type": "code",
   "execution_count": 70,
   "metadata": {},
   "outputs": [
    {
     "data": {
      "text/plain": [
       "[200, 650, 950, 2450, 3150, 3194]"
      ]
     },
     "execution_count": 70,
     "metadata": {},
     "output_type": "execute_result"
    }
   ],
   "source": [
    "cumulative = []\n",
    "N = 0\n",
    "\n",
    "for i in df['frequency']:\n",
    "    N += i\n",
    "    cumulative.append(N)\n",
    "    \n",
    "cumulative"
   ]
  },
  {
   "cell_type": "markdown",
   "metadata": {},
   "source": [
    "Let's add this new column of cumulative fequency into our data frame df"
   ]
  },
  {
   "cell_type": "code",
   "execution_count": 71,
   "metadata": {},
   "outputs": [
    {
     "data": {
      "text/html": [
       "<div>\n",
       "<style scoped>\n",
       "    .dataframe tbody tr th:only-of-type {\n",
       "        vertical-align: middle;\n",
       "    }\n",
       "\n",
       "    .dataframe tbody tr th {\n",
       "        vertical-align: top;\n",
       "    }\n",
       "\n",
       "    .dataframe thead th {\n",
       "        text-align: right;\n",
       "    }\n",
       "</style>\n",
       "<table border=\"1\" class=\"dataframe\">\n",
       "  <thead>\n",
       "    <tr style=\"text-align: right;\">\n",
       "      <th></th>\n",
       "      <th>Age</th>\n",
       "      <th>frequency</th>\n",
       "      <th>Cumulative_Frequency</th>\n",
       "    </tr>\n",
       "  </thead>\n",
       "  <tbody>\n",
       "    <tr>\n",
       "      <th>0</th>\n",
       "      <td>1-5</td>\n",
       "      <td>200</td>\n",
       "      <td>200</td>\n",
       "    </tr>\n",
       "    <tr>\n",
       "      <th>1</th>\n",
       "      <td>5-15</td>\n",
       "      <td>450</td>\n",
       "      <td>650</td>\n",
       "    </tr>\n",
       "    <tr>\n",
       "      <th>2</th>\n",
       "      <td>15-20</td>\n",
       "      <td>300</td>\n",
       "      <td>950</td>\n",
       "    </tr>\n",
       "    <tr>\n",
       "      <th>3</th>\n",
       "      <td>20-50</td>\n",
       "      <td>1500</td>\n",
       "      <td>2450</td>\n",
       "    </tr>\n",
       "    <tr>\n",
       "      <th>4</th>\n",
       "      <td>50-80</td>\n",
       "      <td>700</td>\n",
       "      <td>3150</td>\n",
       "    </tr>\n",
       "    <tr>\n",
       "      <th>5</th>\n",
       "      <td>80-110</td>\n",
       "      <td>44</td>\n",
       "      <td>3194</td>\n",
       "    </tr>\n",
       "  </tbody>\n",
       "</table>\n",
       "</div>"
      ],
      "text/plain": [
       "      Age  frequency  Cumulative_Frequency\n",
       "0     1-5        200                   200\n",
       "1    5-15        450                   650\n",
       "2   15-20        300                   950\n",
       "3   20-50       1500                  2450\n",
       "4   50-80        700                  3150\n",
       "5  80-110         44                  3194"
      ]
     },
     "execution_count": 71,
     "metadata": {},
     "output_type": "execute_result"
    }
   ],
   "source": [
    "df['Cumulative_Frequency'] = cumulative\n",
    "\n",
    "df"
   ]
  },
  {
   "cell_type": "markdown",
   "metadata": {},
   "source": [
    "As we can see less than cumulative frequency table added to our dataframe, so now we will go ahead apply our logic and use the formula to find median of grouped data."
   ]
  },
  {
   "cell_type": "code",
   "execution_count": 72,
   "metadata": {},
   "outputs": [],
   "source": [
    "index = 0\n",
    "for e in cumulative:\n",
    "    if (e > N/2):\n",
    "        break\n",
    "    else:\n",
    "        index += 1"
   ]
  },
  {
   "cell_type": "markdown",
   "metadata": {},
   "source": [
    "lets use the formula, before that let's create variables needed for formula and assign values to it and have a seperate function computing median value."
   ]
  },
  {
   "cell_type": "code",
   "execution_count": 73,
   "metadata": {},
   "outputs": [],
   "source": [
    "def findMedian():\n",
    "    \n",
    "    lower = int(str(df['Age'][index]).split('-')[0])\n",
    "    upper = int(str(df['Age'][index]).split('-')[1])\n",
    "    width = upper - lower\n",
    "    f = df['frequency'][index]\n",
    "    c = df['Cumulative_Frequency'][index-1]\n",
    "    \n",
    "    return lower + width*( (N/2 - c) / f)\n",
    "    "
   ]
  },
  {
   "cell_type": "markdown",
   "metadata": {},
   "source": [
    "Now our function is capable of finding median value using our logic. Let's call this function and assign it to a variable."
   ]
  },
  {
   "cell_type": "code",
   "execution_count": 75,
   "metadata": {},
   "outputs": [
    {
     "name": "stdout",
     "output_type": "stream",
     "text": [
      "Median of the given data is: 32.94\n",
      "So the approximate median of the given data is: 33.0\n"
     ]
    }
   ],
   "source": [
    "median = findMedian()\n",
    "\n",
    "print('Median of the given data is: ' + str((median)))\n",
    "print('So the approximate median of the given data is: ' + str(round(median)))"
   ]
  },
  {
   "cell_type": "markdown",
   "metadata": {},
   "source": [
    "<hr style=\"height:1px;border:none;color:#333;background-color:#333;\">\n",
    "\n",
    "## Question 2\n",
    "\n",
    "<br>\n",
    "Q2. Suppose that the data for analysis includes the attribute age. \n",
    "The age values for the data tuples are (in increasing order) \n",
    "13, 15, 16, 16, 19, 20, 20, 21, 22, 22, 25, 25, 25, 25, 30, 33, 33, 35, 35, 35, 35, 36, 40, 45, 46, 52, 70. \n",
    "\n",
    "(please copy these values correctly in your input or the calculation will be wrong) (7 points)"
   ]
  },
  {
   "cell_type": "markdown",
   "metadata": {},
   "source": [
    "Let's go ahead and save the data in list first."
   ]
  },
  {
   "cell_type": "code",
   "execution_count": 76,
   "metadata": {},
   "outputs": [],
   "source": [
    "order = [13, 15, 16, 16, 19, 20, 20, 21, 22, 22, 25, 25, 25, 25, 30, 33, 33, 35, 35, 35, 35, 36, 40, 45, 46, 52, 70]"
   ]
  },
  {
   "cell_type": "markdown",
   "metadata": {},
   "source": [
    "(a) What is the mean of the data? What is the median?"
   ]
  },
  {
   "cell_type": "code",
   "execution_count": 77,
   "metadata": {},
   "outputs": [
    {
     "name": "stdout",
     "output_type": "stream",
     "text": [
      "Using statistics library: Mean = 29.962962962962962 and Median is 25\n"
     ]
    }
   ],
   "source": [
    "mean = statistics.mean(order)\n",
    "median = statistics.median(order)\n",
    "\n",
    "print('Using statistics library: Mean = ' + str(mean) + ' and Median is ' + str(median))"
   ]
  },
  {
   "cell_type": "markdown",
   "metadata": {},
   "source": [
    "There is another way to achieve the same thing, using pandas libray"
   ]
  },
  {
   "cell_type": "code",
   "execution_count": 78,
   "metadata": {},
   "outputs": [
    {
     "name": "stdout",
     "output_type": "stream",
     "text": [
      "Using pandas library: Mean = 29.962962962962962 and Median is 25.0\n"
     ]
    }
   ],
   "source": [
    "df = pd.DataFrame(order)\n",
    "\n",
    "print('Using pandas library: Mean = ' + str(df.mean()[0]) + ' and Median is ' + str(df.median()[0]))"
   ]
  },
  {
   "cell_type": "markdown",
   "metadata": {},
   "source": [
    "(b) What is the mode of the data? Comment on the data's modality (i.e., bimodal, trimodal, etc.)."
   ]
  },
  {
   "cell_type": "markdown",
   "metadata": {},
   "source": [
    "Answer:"
   ]
  },
  {
   "cell_type": "code",
   "execution_count": null,
   "metadata": {},
   "outputs": [],
   "source": [
    "statistics.multimode(order)"
   ]
  },
  {
   "cell_type": "markdown",
   "metadata": {},
   "source": [
    "There are multiple mode available in given data: [25, 35]\n",
    "\n",
    "As there are two modes in our data, data's modality is <i>bimodal</i>"
   ]
  },
  {
   "cell_type": "markdown",
   "metadata": {},
   "source": [
    "(c) What is the midrange of the data?\n",
    "\n"
   ]
  },
  {
   "cell_type": "code",
   "execution_count": 80,
   "metadata": {},
   "outputs": [
    {
     "name": "stdout",
     "output_type": "stream",
     "text": [
      "The midrange of the given data is 57\n"
     ]
    }
   ],
   "source": [
    "max = 70\n",
    "min = 13\n",
    "midrange = max - min\n",
    "print(\"The midrange of the given data is \" + str(midrange))"
   ]
  },
  {
   "cell_type": "markdown",
   "metadata": {},
   "source": [
    "(d) Can you find (roughly) the first quartile (Q1) and the third quartile (Q3) of the data?"
   ]
  },
  {
   "cell_type": "code",
   "execution_count": 81,
   "metadata": {},
   "outputs": [
    {
     "data": {
      "text/html": [
       "<div>\n",
       "<style scoped>\n",
       "    .dataframe tbody tr th:only-of-type {\n",
       "        vertical-align: middle;\n",
       "    }\n",
       "\n",
       "    .dataframe tbody tr th {\n",
       "        vertical-align: top;\n",
       "    }\n",
       "\n",
       "    .dataframe thead th {\n",
       "        text-align: right;\n",
       "    }\n",
       "</style>\n",
       "<table border=\"1\" class=\"dataframe\">\n",
       "  <thead>\n",
       "    <tr style=\"text-align: right;\">\n",
       "      <th></th>\n",
       "      <th>0</th>\n",
       "    </tr>\n",
       "  </thead>\n",
       "  <tbody>\n",
       "    <tr>\n",
       "      <th>count</th>\n",
       "      <td>27.000000</td>\n",
       "    </tr>\n",
       "    <tr>\n",
       "      <th>mean</th>\n",
       "      <td>29.962963</td>\n",
       "    </tr>\n",
       "    <tr>\n",
       "      <th>std</th>\n",
       "      <td>12.942124</td>\n",
       "    </tr>\n",
       "    <tr>\n",
       "      <th>min</th>\n",
       "      <td>13.000000</td>\n",
       "    </tr>\n",
       "    <tr>\n",
       "      <th>25%</th>\n",
       "      <td>20.500000</td>\n",
       "    </tr>\n",
       "    <tr>\n",
       "      <th>50%</th>\n",
       "      <td>25.000000</td>\n",
       "    </tr>\n",
       "    <tr>\n",
       "      <th>75%</th>\n",
       "      <td>35.000000</td>\n",
       "    </tr>\n",
       "    <tr>\n",
       "      <th>max</th>\n",
       "      <td>70.000000</td>\n",
       "    </tr>\n",
       "  </tbody>\n",
       "</table>\n",
       "</div>"
      ],
      "text/plain": [
       "               0\n",
       "count  27.000000\n",
       "mean   29.962963\n",
       "std    12.942124\n",
       "min    13.000000\n",
       "25%    20.500000\n",
       "50%    25.000000\n",
       "75%    35.000000\n",
       "max    70.000000"
      ]
     },
     "execution_count": 81,
     "metadata": {},
     "output_type": "execute_result"
    }
   ],
   "source": [
    "df.describe()"
   ]
  },
  {
   "cell_type": "markdown",
   "metadata": {},
   "source": [
    "First Quartile (Q1) : 20.5\n",
    "<br>\n",
    "Third Quartile (Q3) : 35.0"
   ]
  },
  {
   "cell_type": "markdown",
   "metadata": {},
   "source": [
    "(e) Give the five-number summary of the data.\n"
   ]
  },
  {
   "cell_type": "code",
   "execution_count": 82,
   "metadata": {},
   "outputs": [
    {
     "name": "stdout",
     "output_type": "stream",
     "text": [
      "5-Number Summary\n",
      "Min | Q1 | Median | Q3 | Max |\n",
      "13  | 20 | 25     | 35 | 70  |\n"
     ]
    }
   ],
   "source": [
    "# we know from the above results min, max, median\n",
    "Q1 = 20\n",
    "Q3 = 35\n",
    "\n",
    "print(\"5-Number Summary\")\n",
    "print(str(\"Min\") + \" | \" + str(\"Q1\") + \" | \" + str(\"Median\") + \" | \" + str(\"Q3\") + \" | \" + str(\"Max\") + \" |\")\n",
    "print(str(min) + \"  | \" + str(Q1) + \" | \" + str(median) + \"     | \" + str(Q3) + \" | \" + str(max) + \"  |\")"
   ]
  },
  {
   "cell_type": "markdown",
   "metadata": {},
   "source": [
    "(f)  Show a boxplot of the data.\n"
   ]
  },
  {
   "cell_type": "code",
   "execution_count": 83,
   "metadata": {},
   "outputs": [
    {
     "data": {
      "text/plain": [
       "<matplotlib.axes._subplots.AxesSubplot at 0x25dfd5d5240>"
      ]
     },
     "execution_count": 83,
     "metadata": {},
     "output_type": "execute_result"
    },
    {
     "data": {
      "image/png": "[encoded data removed]",
      "text/plain": [
       "<Figure size 432x288 with 1 Axes>"
      ]
     },
     "metadata": {
      "needs_background": "light"
     },
     "output_type": "display_data"
    }
   ],
   "source": [
    "df.boxplot()"
   ]
  },
  {
   "cell_type": "markdown",
   "metadata": {},
   "source": [
    "(g) How is a quantile-quantile plot different from a quantile plot?"
   ]
  },
  {
   "cell_type": "markdown",
   "metadata": {},
   "source": [
    "QQ plot and quantile plots are same. Quantile plots directly display the quantiles of a set of values. The sample quantiles are plotted against the fraction of the sample they correspond to. Quantile-quantile plots allow us to compare the quantiles of two sets of numbers. The quantile-quantile (q-q) plot is a graphical technique for determining if two data sets come from populations with a common distribution. A q-q plot is a plot of the quantiles of the first data set against the quantiles of the second data set."
   ]
  },
  {
   "cell_type": "markdown",
   "metadata": {},
   "source": [
    "<hr style=\"height:1px;border:none;color:#333;background-color:#333;\">\n",
    "\n",
    "## Question 3\n",
    "\n",
    "<br>\n",
    "Q3. Using the data for age given in question 2, answer the following: (10 points)\n",
    "\n",
    "(a) Use min-max normalization to transform the value 35 for age onto the range [0:0; 1:0]. (3 points)\n"
   ]
  },
  {
   "cell_type": "code",
   "execution_count": 84,
   "metadata": {},
   "outputs": [
    {
     "name": "stdout",
     "output_type": "stream",
     "text": [
      "The transform value of 35 using min-max normalization is 0.386\n"
     ]
    }
   ],
   "source": [
    "v = 35\n",
    "tranformed = (((v-min)/(max-min))*1+0)\n",
    "print('The transform value of 35 using min-max normalization is '+str(round(tranformed, 4)))"
   ]
  },
  {
   "cell_type": "markdown",
   "metadata": {},
   "source": [
    "(b) Use z-score normalization to transform the value 35 for age, where the standard deviation of age is 12.94 years. (3 points)"
   ]
  },
  {
   "cell_type": "code",
   "execution_count": 85,
   "metadata": {},
   "outputs": [
    {
     "name": "stdout",
     "output_type": "stream",
     "text": [
      "Z-score normalization to transform the value 35 is 0.3893\n"
     ]
    }
   ],
   "source": [
    "sd = 12.94\n",
    "\n",
    "ans = (v - mean)/sd\n",
    "print('Z-score normalization to transform the value 35 is ' + str(round(ans,4)))"
   ]
  },
  {
   "cell_type": "markdown",
   "metadata": {},
   "source": [
    "(c) Use normalization by decimal scaling to transform the value 35 for age. (3 points)"
   ]
  },
  {
   "cell_type": "code",
   "execution_count": 86,
   "metadata": {},
   "outputs": [
    {
     "name": "stdout",
     "output_type": "stream",
     "text": [
      "Decimal scaling to transform the value 35 is 0.35\n"
     ]
    }
   ],
   "source": [
    "digits = int(len(str(max)))\n",
    "\n",
    "ans = v/pow(10, digits)\n",
    "print('Decimal scaling to transform the value 35 is ' + str(ans))"
   ]
  },
  {
   "cell_type": "markdown",
   "metadata": {},
   "source": [
    "(d) Comment on which method you would prefer to use for the given data, giving reasons as to why. (1 point)"
   ]
  },
  {
   "cell_type": "markdown",
   "metadata": {},
   "source": [
    "In this <a href=\"https://www.researchgate.net/publication/354751895_Machine_Learning_to_Estimate_Surface_Roughness_from_Satellite_Images\">article</a>, researchers conducted different analysis on differnt normalization techniques and based on results, Min-Max normalization outperforms all other normalization techniques. Based on results we have got, Min-Max and z-scores produces nearly same normalization value of 35. So, I would prefer to go with Min-Max or z-score."
   ]
  }
 ],
 "metadata": {
  "kernelspec": {
   "display_name": "Python 3",
   "language": "python",
   "name": "python3"
  },
  "language_info": {
   "codemirror_mode": {
    "name": "ipython",
    "version": 3
   },
   "file_extension": ".py",
   "mimetype": "text/x-python",
   "name": "python",
   "nbconvert_exporter": "python",
   "pygments_lexer": "ipython3",
   "version": "3.7.3"
  }
 },
 "nbformat": 4,
 "nbformat_minor": 2
}
